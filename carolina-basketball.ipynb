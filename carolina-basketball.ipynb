{
 "cells": [
  {
   "cell_type": "markdown",
   "metadata": {},
   "source": [
    "# Carolina Basketball Stats\n",
    "\n",
    "This repository contains data from 2019-2024 gathered from [Sports Reference](https://www.sports-reference.com/cbb/schools/north-carolina/men/2019.html). We would like to visualize it a few ways.\n",
    "\n",
    "To start, we need to make a concatenated dataframe of all years into one data source."
   ]
  },
  {
   "cell_type": "markdown",
   "metadata": {},
   "source": [
    "## Glossary\n",
    "* __Rk__ -- *Rank*\n",
    "* __Pos__ -- *Position*\n",
    "* __G__ -- *Games*\n",
    "* __GS__ -- *Games Started*\n",
    "* __MP__ -- *Minutes Played*\n",
    "* __FG__ -- *Field Goals*\n",
    "* __FGA__ -- *Field Goal Attempts*\n",
    "* __FG%__ -- *Field Goal Percentage*\n",
    "* __3P__ -- *3-Point Field Goals*\n",
    "* __3PA__ -- *3-Point Field Goal Attempts*\n",
    "* __3P%__ -- *3-Point Field Goal Percentage*\n",
    "* __2P__ -- *2-Point Field Goals*\n",
    "* __2PA__ -- *2-Point Field Goal Attempts*\n",
    "* __2P%__ -- *2-Point Field Goal Percentage*\n",
    "* __eFG%__ -- *Effective Field Goal Percentage*\n",
    "This statistic adjusts for the fact that a 3-point field goal is worth one more point than a 2-point field goal.\n",
    "* __FT__ -- *Free Throws*\n",
    "* __FTA__ -- *Free Throw Attempts*\n",
    "* __FT%__ -- *Free Throw Percentage*\n",
    "* __ORB__ -- *Offensive Rebounds*\n",
    "* __DRB__ -- *Defensive Rebounds*\n",
    "* __TRB__ -- *Total Rebounds*\n",
    "* __AST__ -- *Assists*\n",
    "* __STL__ -- *Steals*\n",
    "* __BLK__ -- *Blocks*\n",
    "* __TOV__ -- *Turnovers*\n",
    "* __PF__ -- *Personal Fouls*\n",
    "* __PTS__ -- *Points*"
   ]
  },
  {
   "cell_type": "code",
   "execution_count": 34,
   "metadata": {},
   "outputs": [
    {
     "data": {
      "text/html": [
       "<div>\n",
       "<style scoped>\n",
       "    .dataframe tbody tr th:only-of-type {\n",
       "        vertical-align: middle;\n",
       "    }\n",
       "\n",
       "    .dataframe tbody tr th {\n",
       "        vertical-align: top;\n",
       "    }\n",
       "\n",
       "    .dataframe thead th {\n",
       "        text-align: right;\n",
       "    }\n",
       "</style>\n",
       "<table border=\"1\" class=\"dataframe\">\n",
       "  <thead>\n",
       "    <tr style=\"text-align: right;\">\n",
       "      <th></th>\n",
       "      <th>Rk</th>\n",
       "      <th>Player</th>\n",
       "      <th>Pos</th>\n",
       "      <th>G</th>\n",
       "      <th>GS</th>\n",
       "      <th>MP</th>\n",
       "      <th>FG</th>\n",
       "      <th>FGA</th>\n",
       "      <th>FG%</th>\n",
       "      <th>3P</th>\n",
       "      <th>...</th>\n",
       "      <th>TRB</th>\n",
       "      <th>AST</th>\n",
       "      <th>STL</th>\n",
       "      <th>BLK</th>\n",
       "      <th>TOV</th>\n",
       "      <th>PF</th>\n",
       "      <th>PTS</th>\n",
       "      <th>Awards</th>\n",
       "      <th>Player-additional</th>\n",
       "      <th>year</th>\n",
       "    </tr>\n",
       "  </thead>\n",
       "  <tbody>\n",
       "    <tr>\n",
       "      <th>0</th>\n",
       "      <td>1.0</td>\n",
       "      <td>Cameron Johnson</td>\n",
       "      <td>G</td>\n",
       "      <td>36</td>\n",
       "      <td>36.0</td>\n",
       "      <td>29.9</td>\n",
       "      <td>5.9</td>\n",
       "      <td>11.6</td>\n",
       "      <td>0.506</td>\n",
       "      <td>2.7</td>\n",
       "      <td>...</td>\n",
       "      <td>5.8</td>\n",
       "      <td>2.4</td>\n",
       "      <td>1.2</td>\n",
       "      <td>0.3</td>\n",
       "      <td>1.5</td>\n",
       "      <td>1.5</td>\n",
       "      <td>16.9</td>\n",
       "      <td>NaN</td>\n",
       "      <td>cameron-johnson-4</td>\n",
       "      <td>2019</td>\n",
       "    </tr>\n",
       "    <tr>\n",
       "      <th>1</th>\n",
       "      <td>2.0</td>\n",
       "      <td>Coby White</td>\n",
       "      <td>G</td>\n",
       "      <td>35</td>\n",
       "      <td>35.0</td>\n",
       "      <td>28.5</td>\n",
       "      <td>5.4</td>\n",
       "      <td>12.7</td>\n",
       "      <td>0.423</td>\n",
       "      <td>2.3</td>\n",
       "      <td>...</td>\n",
       "      <td>3.5</td>\n",
       "      <td>4.1</td>\n",
       "      <td>1.1</td>\n",
       "      <td>0.3</td>\n",
       "      <td>2.7</td>\n",
       "      <td>1.9</td>\n",
       "      <td>16.1</td>\n",
       "      <td>NaN</td>\n",
       "      <td>coby-white-1</td>\n",
       "      <td>2019</td>\n",
       "    </tr>\n",
       "    <tr>\n",
       "      <th>2</th>\n",
       "      <td>3.0</td>\n",
       "      <td>Luke Maye</td>\n",
       "      <td>F</td>\n",
       "      <td>36</td>\n",
       "      <td>36.0</td>\n",
       "      <td>30.9</td>\n",
       "      <td>5.5</td>\n",
       "      <td>12.8</td>\n",
       "      <td>0.430</td>\n",
       "      <td>1.0</td>\n",
       "      <td>...</td>\n",
       "      <td>10.5</td>\n",
       "      <td>2.3</td>\n",
       "      <td>0.6</td>\n",
       "      <td>0.6</td>\n",
       "      <td>2.0</td>\n",
       "      <td>2.6</td>\n",
       "      <td>14.9</td>\n",
       "      <td>NaN</td>\n",
       "      <td>luke-maye-1</td>\n",
       "      <td>2019</td>\n",
       "    </tr>\n",
       "    <tr>\n",
       "      <th>3</th>\n",
       "      <td>4.0</td>\n",
       "      <td>Nassir Little</td>\n",
       "      <td>F</td>\n",
       "      <td>36</td>\n",
       "      <td>0.0</td>\n",
       "      <td>18.2</td>\n",
       "      <td>3.6</td>\n",
       "      <td>7.6</td>\n",
       "      <td>0.478</td>\n",
       "      <td>0.4</td>\n",
       "      <td>...</td>\n",
       "      <td>4.6</td>\n",
       "      <td>0.7</td>\n",
       "      <td>0.5</td>\n",
       "      <td>0.5</td>\n",
       "      <td>1.3</td>\n",
       "      <td>1.6</td>\n",
       "      <td>9.8</td>\n",
       "      <td>NaN</td>\n",
       "      <td>nassir-little-1</td>\n",
       "      <td>2019</td>\n",
       "    </tr>\n",
       "    <tr>\n",
       "      <th>4</th>\n",
       "      <td>5.0</td>\n",
       "      <td>Kenny Williams</td>\n",
       "      <td>G</td>\n",
       "      <td>36</td>\n",
       "      <td>36.0</td>\n",
       "      <td>30.0</td>\n",
       "      <td>3.0</td>\n",
       "      <td>7.4</td>\n",
       "      <td>0.399</td>\n",
       "      <td>1.2</td>\n",
       "      <td>...</td>\n",
       "      <td>3.9</td>\n",
       "      <td>3.5</td>\n",
       "      <td>0.9</td>\n",
       "      <td>0.3</td>\n",
       "      <td>1.6</td>\n",
       "      <td>1.8</td>\n",
       "      <td>8.6</td>\n",
       "      <td>NaN</td>\n",
       "      <td>kenny-williams-3</td>\n",
       "      <td>2019</td>\n",
       "    </tr>\n",
       "    <tr>\n",
       "      <th>...</th>\n",
       "      <td>...</td>\n",
       "      <td>...</td>\n",
       "      <td>...</td>\n",
       "      <td>...</td>\n",
       "      <td>...</td>\n",
       "      <td>...</td>\n",
       "      <td>...</td>\n",
       "      <td>...</td>\n",
       "      <td>...</td>\n",
       "      <td>...</td>\n",
       "      <td>...</td>\n",
       "      <td>...</td>\n",
       "      <td>...</td>\n",
       "      <td>...</td>\n",
       "      <td>...</td>\n",
       "      <td>...</td>\n",
       "      <td>...</td>\n",
       "      <td>...</td>\n",
       "      <td>...</td>\n",
       "      <td>...</td>\n",
       "      <td>...</td>\n",
       "    </tr>\n",
       "    <tr>\n",
       "      <th>10</th>\n",
       "      <td>11.0</td>\n",
       "      <td>James Okonkwo</td>\n",
       "      <td>F</td>\n",
       "      <td>15</td>\n",
       "      <td>0.0</td>\n",
       "      <td>2.9</td>\n",
       "      <td>0.3</td>\n",
       "      <td>0.6</td>\n",
       "      <td>0.556</td>\n",
       "      <td>0.0</td>\n",
       "      <td>...</td>\n",
       "      <td>1.0</td>\n",
       "      <td>0.0</td>\n",
       "      <td>0.0</td>\n",
       "      <td>0.3</td>\n",
       "      <td>0.2</td>\n",
       "      <td>0.5</td>\n",
       "      <td>1.0</td>\n",
       "      <td>NaN</td>\n",
       "      <td>james-okonkwo-1</td>\n",
       "      <td>2024</td>\n",
       "    </tr>\n",
       "    <tr>\n",
       "      <th>11</th>\n",
       "      <td>12.0</td>\n",
       "      <td>Zayden High</td>\n",
       "      <td>F</td>\n",
       "      <td>23</td>\n",
       "      <td>0.0</td>\n",
       "      <td>4.5</td>\n",
       "      <td>0.3</td>\n",
       "      <td>0.8</td>\n",
       "      <td>0.316</td>\n",
       "      <td>0.0</td>\n",
       "      <td>...</td>\n",
       "      <td>1.1</td>\n",
       "      <td>0.1</td>\n",
       "      <td>0.2</td>\n",
       "      <td>0.1</td>\n",
       "      <td>0.4</td>\n",
       "      <td>1.0</td>\n",
       "      <td>0.8</td>\n",
       "      <td>NaN</td>\n",
       "      <td>zayden-high-2</td>\n",
       "      <td>2024</td>\n",
       "    </tr>\n",
       "    <tr>\n",
       "      <th>12</th>\n",
       "      <td>13.0</td>\n",
       "      <td>Duwe Farris</td>\n",
       "      <td>F</td>\n",
       "      <td>8</td>\n",
       "      <td>1.0</td>\n",
       "      <td>1.8</td>\n",
       "      <td>0.1</td>\n",
       "      <td>0.5</td>\n",
       "      <td>0.250</td>\n",
       "      <td>0.0</td>\n",
       "      <td>...</td>\n",
       "      <td>0.3</td>\n",
       "      <td>0.1</td>\n",
       "      <td>0.0</td>\n",
       "      <td>0.0</td>\n",
       "      <td>0.0</td>\n",
       "      <td>0.0</td>\n",
       "      <td>0.3</td>\n",
       "      <td>NaN</td>\n",
       "      <td>duwe-farris-1</td>\n",
       "      <td>2024</td>\n",
       "    </tr>\n",
       "    <tr>\n",
       "      <th>13</th>\n",
       "      <td>14.0</td>\n",
       "      <td>Creighton Lebo</td>\n",
       "      <td>G</td>\n",
       "      <td>9</td>\n",
       "      <td>1.0</td>\n",
       "      <td>2.4</td>\n",
       "      <td>0.0</td>\n",
       "      <td>1.0</td>\n",
       "      <td>0.000</td>\n",
       "      <td>0.0</td>\n",
       "      <td>...</td>\n",
       "      <td>0.3</td>\n",
       "      <td>0.0</td>\n",
       "      <td>0.2</td>\n",
       "      <td>0.0</td>\n",
       "      <td>0.0</td>\n",
       "      <td>0.2</td>\n",
       "      <td>0.0</td>\n",
       "      <td>NaN</td>\n",
       "      <td>creighton-lebo-1</td>\n",
       "      <td>2024</td>\n",
       "    </tr>\n",
       "    <tr>\n",
       "      <th>14</th>\n",
       "      <td>NaN</td>\n",
       "      <td>Team Totals</td>\n",
       "      <td>NaN</td>\n",
       "      <td>37</td>\n",
       "      <td>NaN</td>\n",
       "      <td>40.1</td>\n",
       "      <td>28.3</td>\n",
       "      <td>62.8</td>\n",
       "      <td>0.450</td>\n",
       "      <td>8.1</td>\n",
       "      <td>...</td>\n",
       "      <td>41.1</td>\n",
       "      <td>14.5</td>\n",
       "      <td>5.8</td>\n",
       "      <td>4.1</td>\n",
       "      <td>10.1</td>\n",
       "      <td>16.5</td>\n",
       "      <td>81.9</td>\n",
       "      <td>NaN</td>\n",
       "      <td>-9999</td>\n",
       "      <td>2024</td>\n",
       "    </tr>\n",
       "  </tbody>\n",
       "</table>\n",
       "<p>105 rows × 31 columns</p>\n",
       "</div>"
      ],
      "text/plain": [
       "      Rk           Player  Pos   G    GS    MP    FG   FGA    FG%   3P  ...  \\\n",
       "0    1.0  Cameron Johnson    G  36  36.0  29.9   5.9  11.6  0.506  2.7  ...   \n",
       "1    2.0       Coby White    G  35  35.0  28.5   5.4  12.7  0.423  2.3  ...   \n",
       "2    3.0        Luke Maye    F  36  36.0  30.9   5.5  12.8  0.430  1.0  ...   \n",
       "3    4.0    Nassir Little    F  36   0.0  18.2   3.6   7.6  0.478  0.4  ...   \n",
       "4    5.0   Kenny Williams    G  36  36.0  30.0   3.0   7.4  0.399  1.2  ...   \n",
       "..   ...              ...  ...  ..   ...   ...   ...   ...    ...  ...  ...   \n",
       "10  11.0    James Okonkwo    F  15   0.0   2.9   0.3   0.6  0.556  0.0  ...   \n",
       "11  12.0      Zayden High    F  23   0.0   4.5   0.3   0.8  0.316  0.0  ...   \n",
       "12  13.0      Duwe Farris    F   8   1.0   1.8   0.1   0.5  0.250  0.0  ...   \n",
       "13  14.0   Creighton Lebo    G   9   1.0   2.4   0.0   1.0  0.000  0.0  ...   \n",
       "14   NaN      Team Totals  NaN  37   NaN  40.1  28.3  62.8  0.450  8.1  ...   \n",
       "\n",
       "     TRB   AST  STL  BLK   TOV    PF   PTS  Awards  Player-additional  year  \n",
       "0    5.8   2.4  1.2  0.3   1.5   1.5  16.9     NaN  cameron-johnson-4  2019  \n",
       "1    3.5   4.1  1.1  0.3   2.7   1.9  16.1     NaN       coby-white-1  2019  \n",
       "2   10.5   2.3  0.6  0.6   2.0   2.6  14.9     NaN        luke-maye-1  2019  \n",
       "3    4.6   0.7  0.5  0.5   1.3   1.6   9.8     NaN    nassir-little-1  2019  \n",
       "4    3.9   3.5  0.9  0.3   1.6   1.8   8.6     NaN   kenny-williams-3  2019  \n",
       "..   ...   ...  ...  ...   ...   ...   ...     ...                ...   ...  \n",
       "10   1.0   0.0  0.0  0.3   0.2   0.5   1.0     NaN    james-okonkwo-1  2024  \n",
       "11   1.1   0.1  0.2  0.1   0.4   1.0   0.8     NaN      zayden-high-2  2024  \n",
       "12   0.3   0.1  0.0  0.0   0.0   0.0   0.3     NaN      duwe-farris-1  2024  \n",
       "13   0.3   0.0  0.2  0.0   0.0   0.2   0.0     NaN   creighton-lebo-1  2024  \n",
       "14  41.1  14.5  5.8  4.1  10.1  16.5  81.9     NaN              -9999  2024  \n",
       "\n",
       "[105 rows x 31 columns]"
      ]
     },
     "execution_count": 34,
     "metadata": {},
     "output_type": "execute_result"
    }
   ],
   "source": [
    "import pandas as pd\n",
    "\n",
    "start_year = 2019\n",
    "end_year = 2024\n",
    "\n",
    "all_years = None\n",
    "\n",
    "for year in range(start_year, end_year + 1):\n",
    "    ## open dataframe\n",
    "    year_df = pd.read_csv(f\"heels_data/{year}.csv\")\n",
    "    ## add a column to the year\n",
    "    year_df['year'] = year\n",
    "    if all_years is not None:\n",
    "        all_years = pd.concat([all_years, year_df])\n",
    "    else:\n",
    "        all_years = year_df\n",
    "\n",
    "all_years"
   ]
  },
  {
   "cell_type": "code",
   "execution_count": 35,
   "metadata": {},
   "outputs": [
    {
     "data": {
      "text/plain": [
       "<Axes: xlabel='year'>"
      ]
     },
     "execution_count": 35,
     "metadata": {},
     "output_type": "execute_result"
    },
    {
     "data": {
      "image/png": "[encoded data removed]",
      "text/plain": [
       "<Figure size 640x480 with 1 Axes>"
      ]
     },
     "metadata": {},
     "output_type": "display_data"
    }
   ],
   "source": [
    "bacot = all_years[all_years[\"Player\"] == \"Armando Bacot\"]\n",
    "bacot.plot(x=\"year\", y=\"FG%\")"
   ]
  },
  {
   "cell_type": "markdown",
   "metadata": {},
   "source": [
    "This is a nice static vis, but let's clean things up to make it a little prettier."
   ]
  },
  {
   "cell_type": "code",
   "execution_count": 36,
   "metadata": {},
   "outputs": [
    {
     "data": {
      "text/plain": [
       "(0.0, 1.0)"
      ]
     },
     "execution_count": 36,
     "metadata": {},
     "output_type": "execute_result"
    },
    {
     "data": {
      "image/png": "[encoded data removed]",
      "text/plain": [
       "<Figure size 640x480 with 1 Axes>"
      ]
     },
     "metadata": {},
     "output_type": "display_data"
    }
   ],
   "source": [
    "## remember, this returns a figure!\n",
    "chart = bacot.plot(x=\"year\", y=\"FG%\")\n",
    "chart.set_xlabel(\"Year\")\n",
    "chart.set_ylabel(\"Field Goal Percentage\")\n",
    "chart.set_title(\"Armando Bacot's FG% Over Time\")\n",
    "chart.set_ylim(0,1)\n"
   ]
  },
  {
   "cell_type": "markdown",
   "metadata": {},
   "source": [
    "What if we wanted to make this interactive? Let's use widgets!"
   ]
  },
  {
   "cell_type": "code",
   "execution_count": 37,
   "metadata": {},
   "outputs": [
    {
     "data": {
      "application/vnd.jupyter.widget-view+json": {
       "model_id": "1f11a77b60184b8a8f48dc086e2f72e8",
       "version_major": 2,
       "version_minor": 0
      },
      "text/plain": [
       "interactive(children=(Dropdown(description='column', options=('FG%', '3P%', '2P%', 'eFG%', 'FT%'), value='FG%'…"
      ]
     },
     "metadata": {},
     "output_type": "display_data"
    },
    {
     "data": {
      "text/plain": [
       "<function __main__.make_bacot(column)>"
      ]
     },
     "execution_count": 37,
     "metadata": {},
     "output_type": "execute_result"
    }
   ],
   "source": [
    "from ipywidgets import interact\n",
    "\n",
    "columns = [column for column in list(bacot.columns) if \"%\" in column]\n",
    "\n",
    "def make_bacot(column):\n",
    "    chart = bacot.plot(x=\"year\", y=column)\n",
    "    chart.set_xlabel(\"Year\")\n",
    "    chart.set_ylabel(column)\n",
    "    chart.set_title(f\"Armando Bacot's {column} Over Time\")\n",
    "    chart.set_ylim(0,1)\n",
    "\n",
    "interact(make_bacot, column=columns)"
   ]
  },
  {
   "cell_type": "markdown",
   "metadata": {},
   "source": [
    "Let's make that even more interactive!"
   ]
  },
  {
   "cell_type": "code",
   "execution_count": 38,
   "metadata": {},
   "outputs": [
    {
     "data": {
      "application/vnd.jupyter.widget-view+json": {
       "model_id": "b7758b01e0c848108ee3419070c925c5",
       "version_major": 2,
       "version_minor": 0
      },
      "text/plain": [
       "interactive(children=(Dropdown(description='Player', index=20, options=('Cameron Johnson', 'Coby White', 'Luke…"
      ]
     },
     "metadata": {},
     "output_type": "display_data"
    },
    {
     "data": {
      "text/plain": [
       "<function __main__.player_percentage_timeseries(player, column, date_range)>"
      ]
     },
     "execution_count": 38,
     "metadata": {},
     "output_type": "execute_result"
    }
   ],
   "source": [
    "from ipywidgets import IntRangeSlider, Dropdown\n",
    "\n",
    "## define my widgets\n",
    "players = Dropdown(options=list(all_years[\"Player\"]), description=\"Player\", value=\"Armando Bacot\")\n",
    "date_range = IntRangeSlider(min=2019, max=2024, description=\"Year Range\", step=1, value=(2019, 2024))\\\n",
    "## interact will automatically choose the best widget if you don't specify\n",
    "## if I pass in this list, it will give me a dropdown by default\n",
    "pct_columns = [column for column in list(all_years.columns) if \"%\" in column]\n",
    "\n",
    "## define my function to run on interact\n",
    "def player_percentage_timeseries(player, column, date_range):\n",
    "    # implement player filter\n",
    "    filtered = all_years[all_years[\"Player\"] == player]\n",
    "    # implement date filter\n",
    "    filtered = filtered[filtered[\"year\"] >= date_range[0]]\n",
    "    filtered = filtered[filtered[\"year\"] <= date_range[1]]\n",
    "    # make years ints\n",
    "    filtered[\"year\"] = filtered[\"year\"].astype(int)\n",
    "    chart = filtered.plot(x=\"year\", y=column)\n",
    "    chart.set_xlabel(\"Year\")\n",
    "    chart.set_ylabel(column)\n",
    "    chart.set_title(f\"{player}'s {column} Over Time\")\n",
    "    chart.set_ylim(0,1)\n",
    "    chart.set_xlim(filtered[\"year\"].min(), filtered[\"year\"].max())\n",
    "    chart.set_xticks(list(filtered[\"year\"]))\n",
    "\n",
    "## create the interact\n",
    "interact(player_percentage_timeseries, column=pct_columns, player=players, date_range=date_range)\n",
    "    \n"
   ]
  },
  {
   "cell_type": "markdown",
   "metadata": {},
   "source": [
    "## Code In Class\n",
    "This dataset also contains a `Team Totals` `Player` with the team totals per year.\n",
    "\n",
    "Can you replicate the functionality in the cell above, but allow for the user to choose __2 players__ to compare, and include the __Team Totals__ line for reference? Use the following colors:\n",
    "\n",
    "* `Team Totals`: `#EF426F`\n",
    "* `Player 1`: `#7BAFD4`\n",
    "* `Player 2`: `#13294B`\n",
    "\n",
    "\n",
    "NOTE: Remember our slide about how `magic` can be dangerous? This is a great instance of exactly that. Our code above uses pandas plot to automatically generate a nice plot for us. But now that we want to get a little more complicated... it's hard! How do we add team totals as a reference line? How do we get multiple players on the same chart? A better approach might be to use `matplotlib` directly instead of relying on pandas to do the work for us!"
   ]
  },
  {
   "cell_type": "code",
   "execution_count": 39,
   "metadata": {},
   "outputs": [
    {
     "data": {
      "application/vnd.jupyter.widget-view+json": {
       "model_id": "f1efb758ef244045ac09ce50f91b4c6c",
       "version_major": 2,
       "version_minor": 0
      },
      "text/plain": [
       "interactive(children=(Dropdown(description='column', options=('FG%', '3P%', '2P%', 'eFG%', 'FT%'), value='FG%'…"
      ]
     },
     "metadata": {},
     "output_type": "display_data"
    },
    {
     "data": {
      "text/plain": [
       "<function __main__.multi_player_percentage_timeseries(column, player_1, player_2, date_range)>"
      ]
     },
     "execution_count": 39,
     "metadata": {},
     "output_type": "execute_result"
    }
   ],
   "source": [
    "import matplotlib.pyplot as plt\n",
    "\n",
    "## define my widgets\n",
    "player_1 = Dropdown(options=list(all_years[\"Player\"]), description=\"Player\", value=\"Armando Bacot\")\n",
    "player_2 = Dropdown(options=list(all_years[\"Player\"]), description=\"Player\", value=\"RJ Davis\")\n",
    "date_range = IntRangeSlider(min=2019, max=2024, description=\"Year Range\", step=1, value=(2019, 2024))\\\n",
    "## interact will automatically choose the best widget if you don't specify\n",
    "## if I pass in this list, it will give me a dropdown by default\n",
    "pct_columns = [column for column in list(all_years.columns) if \"%\" in column]\n",
    "\n",
    "\n",
    "def multi_player_percentage_timeseries(column, player_1, player_2, date_range):\n",
    "\n",
    "    fig, axs = plt.subplots()\n",
    "\n",
    "    lines = {\n",
    "        player_1: '#7BAFD4',\n",
    "        player_2: '#13294B',\n",
    "        'Team Totals': '#EF426F'\n",
    "    }\n",
    "\n",
    "    for (key, color) in lines.items():\n",
    "        # implement player filter\n",
    "        filtered = all_years[all_years[\"Player\"] == key]\n",
    "        # implement date filter\n",
    "        filtered = filtered[filtered[\"year\"] >= date_range[0]]\n",
    "        filtered = filtered[filtered[\"year\"] <= date_range[1]]\n",
    "        # make years ints\n",
    "        filtered[\"year\"] = filtered[\"year\"].astype(int)\n",
    "        filtered.sort_values(\"year\")\n",
    "        axs.plot(filtered[\"year\"], filtered[column], color=color)\n",
    "\n",
    "\n",
    "    \n",
    "    axs.set_xlabel(\"Year\")\n",
    "    axs.set_ylabel(column)\n",
    "    axs.set_title(f\"{player_1} and {player_2} {column} Over Time\")\n",
    "    axs.set_ylim(0,1)\n",
    "    axs.set_xlim(filtered[\"year\"].min(), filtered[\"year\"].max())\n",
    "    axs.set_xticks(list(filtered[\"year\"]))\n",
    "    axs.legend(lines.keys())\n",
    "\n",
    "## create the interact\n",
    "interact(multi_player_percentage_timeseries, column=pct_columns, player_1=player_1, player_2=player_2, date_range=date_range)\n"
   ]
  }
 ],
 "metadata": {
  "kernelspec": {
   "display_name": ".venv",
   "language": "python",
   "name": "python3"
  },
  "language_info": {
   "codemirror_mode": {
    "name": "ipython",
    "version": 3
   },
   "file_extension": ".py",
   "mimetype": "text/x-python",
   "name": "python",
   "nbconvert_exporter": "python",
   "pygments_lexer": "ipython3",
   "version": "3.12.5"
  }
 },
 "nbformat": 4,
 "nbformat_minor": 2
}
